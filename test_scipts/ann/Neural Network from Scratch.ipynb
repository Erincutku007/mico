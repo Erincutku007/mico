{
 "cells": [
  {
   "cell_type": "markdown",
   "id": "a261100d",
   "metadata": {},
   "source": [
    "# Simple MNIST Neural Network from scratch\n",
    "\n",
    "In this notebook, I implemented a simple two-layer neural network and trained it on the MNIST digit recognizer dataset. It's meant to be an instructional example, through which you can understand the underlying math of neural networks better."
   ]
  },
  {
   "cell_type": "code",
   "execution_count": 71,
   "id": "be39a7c0",
   "metadata": {},
   "outputs": [],
   "source": [
    "import numpy as np\n",
    "import pandas as pd\n",
    "import matplotlib.pyplot as plt"
   ]
  },
  {
   "cell_type": "code",
   "execution_count": 72,
   "id": "ae75c227",
   "metadata": {},
   "outputs": [],
   "source": [
    "data=pd.read_csv(r\"C:\\Users\\erincutku\\Desktop\\projeler\\mnist_nn\\mnist_train.csv\",header=None)"
   ]
  },
  {
   "cell_type": "markdown",
   "id": "df2ff23f",
   "metadata": {},
   "source": [
    "This line reads the MNIST dataset from a CSV file named \"train.csv\" using Pandas and stores it in a DataFrame called data."
   ]
  },
  {
   "cell_type": "code",
   "execution_count": 73,
   "id": "c0a3020d",
   "metadata": {},
   "outputs": [
    {
     "data": {
      "text/html": [
       "<div>\n",
       "<style scoped>\n",
       "    .dataframe tbody tr th:only-of-type {\n",
       "        vertical-align: middle;\n",
       "    }\n",
       "\n",
       "    .dataframe tbody tr th {\n",
       "        vertical-align: top;\n",
       "    }\n",
       "\n",
       "    .dataframe thead th {\n",
       "        text-align: right;\n",
       "    }\n",
       "</style>\n",
       "<table border=\"1\" class=\"dataframe\">\n",
       "  <thead>\n",
       "    <tr style=\"text-align: right;\">\n",
       "      <th></th>\n",
       "      <th>0</th>\n",
       "      <th>1</th>\n",
       "      <th>2</th>\n",
       "      <th>3</th>\n",
       "      <th>4</th>\n",
       "      <th>5</th>\n",
       "      <th>6</th>\n",
       "      <th>7</th>\n",
       "      <th>8</th>\n",
       "      <th>9</th>\n",
       "      <th>...</th>\n",
       "      <th>775</th>\n",
       "      <th>776</th>\n",
       "      <th>777</th>\n",
       "      <th>778</th>\n",
       "      <th>779</th>\n",
       "      <th>780</th>\n",
       "      <th>781</th>\n",
       "      <th>782</th>\n",
       "      <th>783</th>\n",
       "      <th>784</th>\n",
       "    </tr>\n",
       "  </thead>\n",
       "  <tbody>\n",
       "    <tr>\n",
       "      <th>0</th>\n",
       "      <td>5</td>\n",
       "      <td>0</td>\n",
       "      <td>0</td>\n",
       "      <td>0</td>\n",
       "      <td>0</td>\n",
       "      <td>0</td>\n",
       "      <td>0</td>\n",
       "      <td>0</td>\n",
       "      <td>0</td>\n",
       "      <td>0</td>\n",
       "      <td>...</td>\n",
       "      <td>0</td>\n",
       "      <td>0</td>\n",
       "      <td>0</td>\n",
       "      <td>0</td>\n",
       "      <td>0</td>\n",
       "      <td>0</td>\n",
       "      <td>0</td>\n",
       "      <td>0</td>\n",
       "      <td>0</td>\n",
       "      <td>0</td>\n",
       "    </tr>\n",
       "    <tr>\n",
       "      <th>1</th>\n",
       "      <td>0</td>\n",
       "      <td>0</td>\n",
       "      <td>0</td>\n",
       "      <td>0</td>\n",
       "      <td>0</td>\n",
       "      <td>0</td>\n",
       "      <td>0</td>\n",
       "      <td>0</td>\n",
       "      <td>0</td>\n",
       "      <td>0</td>\n",
       "      <td>...</td>\n",
       "      <td>0</td>\n",
       "      <td>0</td>\n",
       "      <td>0</td>\n",
       "      <td>0</td>\n",
       "      <td>0</td>\n",
       "      <td>0</td>\n",
       "      <td>0</td>\n",
       "      <td>0</td>\n",
       "      <td>0</td>\n",
       "      <td>0</td>\n",
       "    </tr>\n",
       "    <tr>\n",
       "      <th>2</th>\n",
       "      <td>4</td>\n",
       "      <td>0</td>\n",
       "      <td>0</td>\n",
       "      <td>0</td>\n",
       "      <td>0</td>\n",
       "      <td>0</td>\n",
       "      <td>0</td>\n",
       "      <td>0</td>\n",
       "      <td>0</td>\n",
       "      <td>0</td>\n",
       "      <td>...</td>\n",
       "      <td>0</td>\n",
       "      <td>0</td>\n",
       "      <td>0</td>\n",
       "      <td>0</td>\n",
       "      <td>0</td>\n",
       "      <td>0</td>\n",
       "      <td>0</td>\n",
       "      <td>0</td>\n",
       "      <td>0</td>\n",
       "      <td>0</td>\n",
       "    </tr>\n",
       "    <tr>\n",
       "      <th>3</th>\n",
       "      <td>1</td>\n",
       "      <td>0</td>\n",
       "      <td>0</td>\n",
       "      <td>0</td>\n",
       "      <td>0</td>\n",
       "      <td>0</td>\n",
       "      <td>0</td>\n",
       "      <td>0</td>\n",
       "      <td>0</td>\n",
       "      <td>0</td>\n",
       "      <td>...</td>\n",
       "      <td>0</td>\n",
       "      <td>0</td>\n",
       "      <td>0</td>\n",
       "      <td>0</td>\n",
       "      <td>0</td>\n",
       "      <td>0</td>\n",
       "      <td>0</td>\n",
       "      <td>0</td>\n",
       "      <td>0</td>\n",
       "      <td>0</td>\n",
       "    </tr>\n",
       "    <tr>\n",
       "      <th>4</th>\n",
       "      <td>9</td>\n",
       "      <td>0</td>\n",
       "      <td>0</td>\n",
       "      <td>0</td>\n",
       "      <td>0</td>\n",
       "      <td>0</td>\n",
       "      <td>0</td>\n",
       "      <td>0</td>\n",
       "      <td>0</td>\n",
       "      <td>0</td>\n",
       "      <td>...</td>\n",
       "      <td>0</td>\n",
       "      <td>0</td>\n",
       "      <td>0</td>\n",
       "      <td>0</td>\n",
       "      <td>0</td>\n",
       "      <td>0</td>\n",
       "      <td>0</td>\n",
       "      <td>0</td>\n",
       "      <td>0</td>\n",
       "      <td>0</td>\n",
       "    </tr>\n",
       "  </tbody>\n",
       "</table>\n",
       "<p>5 rows × 785 columns</p>\n",
       "</div>"
      ],
      "text/plain": [
       "   0    1    2    3    4    5    6    7    8    9    ...  775  776  777  778  \\\n",
       "0    5    0    0    0    0    0    0    0    0    0  ...    0    0    0    0   \n",
       "1    0    0    0    0    0    0    0    0    0    0  ...    0    0    0    0   \n",
       "2    4    0    0    0    0    0    0    0    0    0  ...    0    0    0    0   \n",
       "3    1    0    0    0    0    0    0    0    0    0  ...    0    0    0    0   \n",
       "4    9    0    0    0    0    0    0    0    0    0  ...    0    0    0    0   \n",
       "\n",
       "   779  780  781  782  783  784  \n",
       "0    0    0    0    0    0    0  \n",
       "1    0    0    0    0    0    0  \n",
       "2    0    0    0    0    0    0  \n",
       "3    0    0    0    0    0    0  \n",
       "4    0    0    0    0    0    0  \n",
       "\n",
       "[5 rows x 785 columns]"
      ]
     },
     "execution_count": 73,
     "metadata": {},
     "output_type": "execute_result"
    }
   ],
   "source": [
    "data.head()"
   ]
  },
  {
   "cell_type": "markdown",
   "id": "fa5f718a",
   "metadata": {},
   "source": [
    "These lines convert the DataFrame into a NumPy array, shuffling the data to ensure randomness, and retrieve the number of rows m and the number of columns n."
   ]
  },
  {
   "cell_type": "code",
   "execution_count": 75,
   "id": "27934c37",
   "metadata": {},
   "outputs": [],
   "source": [
    "data=np.array(data)\n",
    "m, n= data.shape\n",
    "np.random.shuffle(data)\n",
    "\n",
    "data_dev=data[0:1000].T\n",
    "Y_dev=data_dev[0]\n",
    "X_dev=data_dev[1:n]\n",
    "X_dev = X_dev / 255.\n",
    "\n",
    "data_train=data[1000:m].T\n",
    "Y_train=data_train[0]\n",
    "X_train=data_train[1:n]\n",
    "X_train = X_train / 255.\n",
    "_,m_train = X_train.shape"
   ]
  },
  {
   "cell_type": "markdown",
   "id": "6e4ed0d8",
   "metadata": {},
   "source": [
    "Here, the data is split into a development set (data_dev) and a training set (data_train). The pixel values are normalized to a range between 0 and 1 by dividing by 255."
   ]
  },
  {
   "cell_type": "markdown",
   "id": "075ed707",
   "metadata": {},
   "source": [
    "Our NN will have a simple two-layer architecture. Input layer $a^{[0]}$ will have 784 units corresponding to the 784 pixels in each 28x28 input image. A hidden layer $a^{[1]}$ will have 10 units with ReLU activation, and finally our output layer $a^{[2]}$ will have 10 units corresponding to the ten digit classes with softmax activation.\n",
    "\n",
    "**Forward propagation**\n",
    "\n",
    "$$Z^{[1]} = W^{[1]} X + b^{[1]}$$\n",
    "$$A^{[1]} = g_{\\text{ReLU}}(Z^{[1]}))$$\n",
    "$$Z^{[2]} = W^{[2]} A^{[1]} + b^{[2]}$$\n",
    "$$A^{[2]} = g_{\\text{softmax}}(Z^{[2]})$$\n",
    "\n",
    "**Backward propagation**\n",
    "\n",
    "$$dZ^{[2]} = A^{[2]} - Y$$\n",
    "$$dW^{[2]} = \\frac{1}{m} dZ^{[2]} A^{[1]T}$$\n",
    "$$dB^{[2]} = \\frac{1}{m} \\Sigma {dZ^{[2]}}$$\n",
    "$$dZ^{[1]} = W^{[2]T} dZ^{[2]} .* g^{[1]\\prime} (z^{[1]})$$\n",
    "$$dW^{[1]} = \\frac{1}{m} dZ^{[1]} A^{[0]T}$$\n",
    "$$dB^{[1]} = \\frac{1}{m} \\Sigma {dZ^{[1]}}$$\n",
    "\n",
    "**Parameter updates**\n",
    "\n",
    "$$W^{[2]} := W^{[2]} - \\alpha dW^{[2]}$$\n",
    "$$b^{[2]} := b^{[2]} - \\alpha db^{[2]}$$\n",
    "$$W^{[1]} := W^{[1]} - \\alpha dW^{[1]}$$\n",
    "$$b^{[1]} := b^{[1]} - \\alpha db^{[1]}$$\n",
    "\n",
    "**Vars and shapes**\n",
    "\n",
    "Forward prop\n",
    "\n",
    "- $A^{[0]} = X$: 784 x m\n",
    "- $Z^{[1]} \\sim A^{[1]}$: 10 x m\n",
    "- $W^{[1]}$: 10 x 784 (as $W^{[1]} A^{[0]} \\sim Z^{[1]}$)\n",
    "- $B^{[1]}$: 10 x 1\n",
    "- $Z^{[2]} \\sim A^{[2]}$: 10 x m\n",
    "- $W^{[1]}$: 10 x 10 (as $W^{[2]} A^{[1]} \\sim Z^{[2]}$)\n",
    "- $B^{[2]}$: 10 x 1\n",
    "\n",
    "Backprop\n",
    "\n",
    "- $dZ^{[2]}$: 10 x m ($~A^{[2]}$)\n",
    "- $dW^{[2]}$: 10 x 10\n",
    "- $dB^{[2]}$: 10 x 1\n",
    "- $dZ^{[1]}$: 10 x m ($~A^{[1]}$)\n",
    "- $dW^{[1]}$: 10 x 10\n",
    "- $dB^{[1]}$: 10 x 1"
   ]
  },
  {
   "cell_type": "code",
   "execution_count": 25,
   "id": "ced96caa",
   "metadata": {},
   "outputs": [],
   "source": [
    "def init_params():\n",
    "    w1=np.random.rand(10,784)-0.5\n",
    "    b1=np.random.rand(10,1)-0.5\n",
    "    w2=np.random.rand(10,10)-0.5\n",
    "    b2=np.random.rand(10,1)-0.5\n",
    "    return w1, b1, w2, b2"
   ]
  },
  {
   "cell_type": "markdown",
   "id": "6251d463",
   "metadata": {},
   "source": [
    "This function initializes the parameters of the neural network: weights (w1, w2) and biases (b1, b2) for the input and hidden layers."
   ]
  },
  {
   "cell_type": "code",
   "execution_count": 26,
   "id": "0a81a112",
   "metadata": {},
   "outputs": [],
   "source": [
    "def ReLU(Z):\n",
    "    return np.maximum(Z, 0)"
   ]
  },
  {
   "cell_type": "code",
   "execution_count": 27,
   "id": "5661ee9e",
   "metadata": {},
   "outputs": [],
   "source": [
    "def softmax(Z):\n",
    "    A=np.exp(Z) / sum(np.exp(Z))\n",
    "    return A"
   ]
  },
  {
   "cell_type": "markdown",
   "id": "28f30b0e",
   "metadata": {},
   "source": [
    "These functions define the activation functions used in the neural network: ReLU (Rectified Linear Unit) for the hidden layer and softmax for the output layer."
   ]
  },
  {
   "cell_type": "code",
   "execution_count": 28,
   "id": "323f513b",
   "metadata": {},
   "outputs": [],
   "source": [
    "def forward_prop(w1, b1, w2, b2, X):\n",
    "    z1=w1.dot(X)+b1\n",
    "    a1=ReLU(z1)\n",
    "    z2=w2.dot(a1)+b2\n",
    "    a2=softmax(z2)\n",
    "    return z1, a1, z2, a2"
   ]
  },
  {
   "cell_type": "markdown",
   "id": "3d389784",
   "metadata": {},
   "source": [
    "This function performs forward propagation, computing the activations of each layer sequentially until the final output is obtained."
   ]
  },
  {
   "cell_type": "code",
   "execution_count": 29,
   "id": "f6e316ad",
   "metadata": {},
   "outputs": [],
   "source": [
    "def one_hot(Y):\n",
    "    one_hot_Y = np.zeros((Y.size, Y.max() + 1))\n",
    "    one_hot_Y[np.arange(Y.size), Y] = 1\n",
    "    one_hot_Y = one_hot_Y.T\n",
    "    return one_hot_Y"
   ]
  },
  {
   "cell_type": "code",
   "execution_count": 30,
   "id": "135a7915",
   "metadata": {},
   "outputs": [],
   "source": [
    "def deriv_ReLU(Z):\n",
    "    return Z>0"
   ]
  },
  {
   "cell_type": "code",
   "execution_count": 31,
   "id": "7fc227b0",
   "metadata": {},
   "outputs": [],
   "source": [
    "def back_prop(z1, a1, z2, a2, w2, Y, X):\n",
    "    OneHot_Y=one_hot(Y)\n",
    "    dZ2=a2-OneHot_Y\n",
    "    dW2=1/m * dZ2.dot(a1.T)\n",
    "    db2=1/m * np.sum(dZ2)\n",
    "    dZ1=w2.T.dot(dZ2)*deriv_ReLU(z1)\n",
    "    dW1=1/m * dZ1.dot(X.T)\n",
    "    db1=1/m * np.sum(dZ1)\n",
    "    return dW1, db1, dW2, db2"
   ]
  },
  {
   "cell_type": "markdown",
   "id": "058e9dfb",
   "metadata": {},
   "source": [
    "This function computes the gradients of the loss function with respect to the parameters of the network during backpropagation."
   ]
  },
  {
   "cell_type": "code",
   "execution_count": 32,
   "id": "094277e6",
   "metadata": {},
   "outputs": [],
   "source": [
    "def update_params(W1, b1, W2, b2, dW1, db1, dW2, db2, alpha):\n",
    "    W1=W1-alpha*dW1\n",
    "    b1=b1-alpha*db1\n",
    "    W2=W2-alpha*dW2\n",
    "    b2=b2-alpha*db2\n",
    "    return W1, b1, W2, b2"
   ]
  },
  {
   "cell_type": "markdown",
   "id": "2fa822d4",
   "metadata": {},
   "source": [
    "This function updates the parameters of the neural network using gradient descent."
   ]
  },
  {
   "cell_type": "code",
   "execution_count": 33,
   "id": "7b671953",
   "metadata": {},
   "outputs": [],
   "source": [
    "def get_predictions(a2):\n",
    "    return np.argmax(a2,0)"
   ]
  },
  {
   "cell_type": "code",
   "execution_count": 34,
   "id": "f7f80154",
   "metadata": {},
   "outputs": [],
   "source": [
    "def get_accuracy(predictions, Y):\n",
    "    print(predictions, Y)\n",
    "    return np.sum(predictions == Y)/Y.size"
   ]
  },
  {
   "cell_type": "code",
   "execution_count": 35,
   "id": "1efad1c0",
   "metadata": {},
   "outputs": [],
   "source": [
    "def gradient_descent(X, Y, iterations, alpha):\n",
    "    w1, b1, w2, b2=init_params()\n",
    "    for i in range(iterations):\n",
    "        z1, a1, z2, a2 =forward_prop(w1, b1, w2, b2, X)\n",
    "        dW1, db1, dW2, db2 = back_prop(z1, a1, z2, a2, w2, Y, X)\n",
    "        w1, b1, w2, b2 = update_params(w1, b1, w2, b2, dW1, db1, dW2, db2, alpha)\n",
    "        if i%10==0:\n",
    "            print(\"iterations: \",i)\n",
    "            print(\"accuracy: \",get_accuracy(get_predictions(a2),Y))\n",
    "    return w1, b1, w2, b2"
   ]
  },
  {
   "cell_type": "markdown",
   "id": "7de6159b",
   "metadata": {},
   "source": [
    "This function performs gradient descent to train the neural network, iterating over a specified number of epochs (iterations) and updating the parameters."
   ]
  },
  {
   "cell_type": "code",
   "execution_count": 36,
   "id": "5394c2b5",
   "metadata": {},
   "outputs": [
    {
     "name": "stdout",
     "output_type": "stream",
     "text": [
      "iterations:  0\n",
      "[4 8 9 ... 9 4 4] [4 8 0 ... 0 1 7]\n",
      "accuracy:  0.10396610169491526\n",
      "iterations:  10\n",
      "[4 1 6 ... 9 1 4] [4 8 0 ... 0 1 7]\n",
      "accuracy:  0.1726101694915254\n",
      "iterations:  20\n",
      "[4 1 6 ... 0 1 4] [4 8 0 ... 0 1 7]\n",
      "accuracy:  0.2765593220338983\n",
      "iterations:  30\n",
      "[4 1 6 ... 0 1 4] [4 8 0 ... 0 1 7]\n",
      "accuracy:  0.342135593220339\n",
      "iterations:  40\n",
      "[4 8 6 ... 0 1 4] [4 8 0 ... 0 1 7]\n",
      "accuracy:  0.3897966101694915\n",
      "iterations:  50\n",
      "[4 8 6 ... 0 1 4] [4 8 0 ... 0 1 7]\n",
      "accuracy:  0.4265762711864407\n",
      "iterations:  60\n",
      "[4 8 6 ... 0 1 4] [4 8 0 ... 0 1 7]\n",
      "accuracy:  0.45832203389830506\n",
      "iterations:  70\n",
      "[4 8 3 ... 0 1 4] [4 8 0 ... 0 1 7]\n",
      "accuracy:  0.4861694915254237\n",
      "iterations:  80\n",
      "[4 8 3 ... 0 1 4] [4 8 0 ... 0 1 7]\n",
      "accuracy:  0.5117118644067796\n",
      "iterations:  90\n",
      "[4 8 3 ... 0 1 4] [4 8 0 ... 0 1 7]\n",
      "accuracy:  0.5385254237288135\n",
      "iterations:  100\n",
      "[4 8 0 ... 0 1 4] [4 8 0 ... 0 1 7]\n",
      "accuracy:  0.5650508474576271\n",
      "iterations:  110\n",
      "[4 8 7 ... 0 1 4] [4 8 0 ... 0 1 7]\n",
      "accuracy:  0.5925932203389831\n",
      "iterations:  120\n",
      "[4 8 7 ... 0 1 4] [4 8 0 ... 0 1 7]\n",
      "accuracy:  0.6167118644067796\n",
      "iterations:  130\n",
      "[4 8 7 ... 0 1 4] [4 8 0 ... 0 1 7]\n",
      "accuracy:  0.6381186440677966\n",
      "iterations:  140\n",
      "[4 8 0 ... 0 1 4] [4 8 0 ... 0 1 7]\n",
      "accuracy:  0.6575084745762712\n",
      "iterations:  150\n",
      "[4 8 0 ... 0 1 7] [4 8 0 ... 0 1 7]\n",
      "accuracy:  0.676135593220339\n",
      "iterations:  160\n",
      "[4 8 0 ... 0 1 7] [4 8 0 ... 0 1 7]\n",
      "accuracy:  0.6927627118644067\n",
      "iterations:  170\n",
      "[4 8 0 ... 0 1 7] [4 8 0 ... 0 1 7]\n",
      "accuracy:  0.7076949152542373\n",
      "iterations:  180\n",
      "[4 8 0 ... 0 1 7] [4 8 0 ... 0 1 7]\n",
      "accuracy:  0.7206949152542372\n",
      "iterations:  190\n",
      "[4 8 0 ... 0 1 7] [4 8 0 ... 0 1 7]\n",
      "accuracy:  0.7322203389830508\n",
      "iterations:  200\n",
      "[4 8 0 ... 0 1 7] [4 8 0 ... 0 1 7]\n",
      "accuracy:  0.7430338983050847\n",
      "iterations:  210\n",
      "[4 8 0 ... 0 1 7] [4 8 0 ... 0 1 7]\n",
      "accuracy:  0.752542372881356\n",
      "iterations:  220\n",
      "[4 8 0 ... 0 1 7] [4 8 0 ... 0 1 7]\n",
      "accuracy:  0.7612203389830509\n",
      "iterations:  230\n",
      "[4 8 0 ... 0 1 7] [4 8 0 ... 0 1 7]\n",
      "accuracy:  0.7693220338983051\n",
      "iterations:  240\n",
      "[4 8 0 ... 0 1 7] [4 8 0 ... 0 1 7]\n",
      "accuracy:  0.7768474576271186\n",
      "iterations:  250\n",
      "[4 8 0 ... 0 1 7] [4 8 0 ... 0 1 7]\n",
      "accuracy:  0.7833220338983051\n",
      "iterations:  260\n",
      "[4 8 0 ... 0 1 7] [4 8 0 ... 0 1 7]\n",
      "accuracy:  0.7892542372881356\n",
      "iterations:  270\n",
      "[4 8 0 ... 0 1 7] [4 8 0 ... 0 1 7]\n",
      "accuracy:  0.7945084745762712\n",
      "iterations:  280\n",
      "[4 8 0 ... 0 1 7] [4 8 0 ... 0 1 7]\n",
      "accuracy:  0.7995593220338983\n",
      "iterations:  290\n",
      "[4 8 0 ... 0 1 7] [4 8 0 ... 0 1 7]\n",
      "accuracy:  0.804728813559322\n",
      "iterations:  300\n",
      "[4 8 0 ... 0 1 7] [4 8 0 ... 0 1 7]\n",
      "accuracy:  0.8088983050847458\n",
      "iterations:  310\n",
      "[4 8 0 ... 0 1 7] [4 8 0 ... 0 1 7]\n",
      "accuracy:  0.8128305084745763\n",
      "iterations:  320\n",
      "[4 8 0 ... 0 1 7] [4 8 0 ... 0 1 7]\n",
      "accuracy:  0.8161525423728814\n",
      "iterations:  330\n",
      "[4 8 0 ... 0 1 7] [4 8 0 ... 0 1 7]\n",
      "accuracy:  0.8195254237288135\n",
      "iterations:  340\n",
      "[4 8 0 ... 0 1 7] [4 8 0 ... 0 1 7]\n",
      "accuracy:  0.8230338983050848\n",
      "iterations:  350\n",
      "[4 8 0 ... 0 1 7] [4 8 0 ... 0 1 7]\n",
      "accuracy:  0.8260169491525424\n",
      "iterations:  360\n",
      "[4 8 0 ... 0 1 7] [4 8 0 ... 0 1 7]\n",
      "accuracy:  0.8290677966101695\n",
      "iterations:  370\n",
      "[4 8 0 ... 0 1 7] [4 8 0 ... 0 1 7]\n",
      "accuracy:  0.8319661016949152\n",
      "iterations:  380\n",
      "[4 8 0 ... 0 1 7] [4 8 0 ... 0 1 7]\n",
      "accuracy:  0.8341525423728814\n",
      "iterations:  390\n",
      "[4 8 0 ... 0 1 7] [4 8 0 ... 0 1 7]\n",
      "accuracy:  0.8364915254237288\n",
      "iterations:  400\n",
      "[4 8 0 ... 0 1 7] [4 8 0 ... 0 1 7]\n",
      "accuracy:  0.839\n",
      "iterations:  410\n",
      "[4 8 0 ... 0 1 7] [4 8 0 ... 0 1 7]\n",
      "accuracy:  0.8411525423728814\n",
      "iterations:  420\n",
      "[4 8 0 ... 0 1 7] [4 8 0 ... 0 1 7]\n",
      "accuracy:  0.843\n",
      "iterations:  430\n",
      "[4 8 0 ... 0 1 7] [4 8 0 ... 0 1 7]\n",
      "accuracy:  0.8448305084745763\n",
      "iterations:  440\n",
      "[4 8 0 ... 0 1 7] [4 8 0 ... 0 1 7]\n",
      "accuracy:  0.8468813559322034\n",
      "iterations:  450\n",
      "[4 8 0 ... 0 1 7] [4 8 0 ... 0 1 7]\n",
      "accuracy:  0.848457627118644\n",
      "iterations:  460\n",
      "[4 8 0 ... 0 1 7] [4 8 0 ... 0 1 7]\n",
      "accuracy:  0.8497966101694915\n",
      "iterations:  470\n",
      "[4 8 0 ... 0 1 7] [4 8 0 ... 0 1 7]\n",
      "accuracy:  0.8513559322033898\n",
      "iterations:  480\n",
      "[4 8 0 ... 0 1 7] [4 8 0 ... 0 1 7]\n",
      "accuracy:  0.8528305084745763\n",
      "iterations:  490\n",
      "[4 8 0 ... 0 1 7] [4 8 0 ... 0 1 7]\n",
      "accuracy:  0.8543050847457627\n"
     ]
    }
   ],
   "source": [
    "w1, b1, w2, b2=gradient_descent(X_train, Y_train, 500, 0.1)"
   ]
  },
  {
   "cell_type": "markdown",
   "id": "31ee33b1",
   "metadata": {},
   "source": [
    "~86% accuracy on training set."
   ]
  },
  {
   "cell_type": "code",
   "execution_count": 37,
   "id": "97d80641",
   "metadata": {},
   "outputs": [],
   "source": [
    "def make_predictions(X, W1, b1, W2, b2):\n",
    "    _, _, _, A2 = forward_prop(W1, b1, W2, b2, X)\n",
    "    predictions = get_predictions(A2)\n",
    "    return predictions"
   ]
  },
  {
   "cell_type": "markdown",
   "id": "b9771c4f",
   "metadata": {},
   "source": [
    "This function makes predictions using the trained neural network."
   ]
  },
  {
   "cell_type": "code",
   "execution_count": 38,
   "id": "f9f6ee9e",
   "metadata": {},
   "outputs": [],
   "source": [
    "def test_prediction(index, W1, b1, W2, b2):\n",
    "    current_image = X_train[:, index, None]\n",
    "    prediction = make_predictions(X_train[:, index, None], W1, b1, W2, b2)\n",
    "    label = Y_train[index]\n",
    "    print(\"Prediction: \", prediction)\n",
    "    print(\"Label: \", label)\n",
    "    \n",
    "    current_image = current_image.reshape((28, 28)) * 255\n",
    "    plt.gray()\n",
    "    plt.imshow(current_image, interpolation='nearest')\n",
    "    plt.show()"
   ]
  },
  {
   "cell_type": "markdown",
   "id": "9aeec859",
   "metadata": {},
   "source": [
    "These functions are for testing predictions and calculating accuracy on the validation set."
   ]
  },
  {
   "cell_type": "markdown",
   "id": "d6aec1d7",
   "metadata": {},
   "source": [
    "Let's look at a couple of examples:"
   ]
  },
  {
   "cell_type": "code",
   "execution_count": 39,
   "id": "7b1dc166",
   "metadata": {},
   "outputs": [
    {
     "name": "stdout",
     "output_type": "stream",
     "text": [
      "Prediction:  [4]\n",
      "Label:  4\n"
     ]
    },
    {
     "data": {
      "image/png": "[encoded data removed]",
      "text/plain": [
       "<Figure size 640x480 with 1 Axes>"
      ]
     },
     "metadata": {},
     "output_type": "display_data"
    },
    {
     "name": "stdout",
     "output_type": "stream",
     "text": [
      "Prediction:  [8]\n",
      "Label:  8\n"
     ]
    },
    {
     "data": {
      "image/png": "[encoded data removed]",
      "text/plain": [
       "<Figure size 640x480 with 1 Axes>"
      ]
     },
     "metadata": {},
     "output_type": "display_data"
    },
    {
     "name": "stdout",
     "output_type": "stream",
     "text": [
      "Prediction:  [0]\n",
      "Label:  0\n"
     ]
    },
    {
     "data": {
      "image/png": "[encoded data removed]",
      "text/plain": [
       "<Figure size 640x480 with 1 Axes>"
      ]
     },
     "metadata": {},
     "output_type": "display_data"
    },
    {
     "name": "stdout",
     "output_type": "stream",
     "text": [
      "Prediction:  [3]\n",
      "Label:  3\n"
     ]
    },
    {
     "data": {
      "image/png": "[encoded data removed]",
      "text/plain": [
       "<Figure size 640x480 with 1 Axes>"
      ]
     },
     "metadata": {},
     "output_type": "display_data"
    }
   ],
   "source": [
    "test_prediction(0, w1, b1, w2, b2)\n",
    "test_prediction(1, w1, b1, w2, b2)\n",
    "test_prediction(2, w1, b1, w2, b2)\n",
    "test_prediction(3, w1, b1, w2, b2)"
   ]
  },
  {
   "cell_type": "markdown",
   "id": "15d5366c",
   "metadata": {},
   "source": [
    "Finally, let's find the accuracy on the dev set:"
   ]
  },
  {
   "cell_type": "code",
   "execution_count": 40,
   "id": "eadb907f",
   "metadata": {},
   "outputs": [
    {
     "name": "stdout",
     "output_type": "stream",
     "text": [
      "[6 3 4 8 2 4 5 6 9 9 9 9 5 3 1 9 3 4 0 4 4 9 8 3 2 3 6 8 7 9 6 6 6 1 6 3 1\n",
      " 6 6 2 2 2 4 0 9 3 7 7 1 9 1 6 0 8 1 3 9 5 4 0 6 7 1 4 6 8 5 1 2 0 5 0 3 0\n",
      " 4 6 2 5 9 2 5 2 6 8 6 6 9 2 2 0 8 1 8 3 1 5 3 9 5 2 1 4 9 2 7 8 6 3 1 8 4\n",
      " 9 9 7 5 5 0 8 1 2 1 8 9 1 1 8 1 4 0 7 0 8 9 3 2 7 8 0 4 7 0 4 5 3 2 2 5 7\n",
      " 9 7 7 1 2 6 8 3 2 4 1 3 7 9 8 6 8 7 1 8 9 0 1 6 8 1 3 2 9 2 8 2 0 6 1 4 0\n",
      " 1 6 6 4 1 0 4 7 7 6 0 7 7 5 9 4 4 3 8 6 3 7 7 6 1 6 7 2 7 9 2 1 4 9 1 5 0\n",
      " 0 0 1 1 4 3 4 1 1 3 5 5 2 5 2 7 8 0 8 1 2 9 3 9 3 6 0 0 9 2 6 8 5 1 5 8 0\n",
      " 6 8 6 8 7 8 6 5 8 3 2 0 4 6 7 4 0 4 2 1 6 6 1 6 9 7 0 0 8 1 9 9 8 2 9 3 0\n",
      " 2 3 2 0 0 7 0 8 2 1 7 8 7 7 9 3 9 6 1 6 9 9 9 6 0 7 8 7 8 1 2 4 5 2 6 7 7\n",
      " 3 2 8 3 4 9 7 5 0 0 2 8 1 5 7 8 5 7 5 5 4 9 5 0 4 9 6 1 8 4 9 4 3 6 1 7 0\n",
      " 9 9 3 7 7 6 1 1 3 8 3 7 1 9 7 9 1 4 1 2 6 5 0 0 1 9 7 3 6 0 5 1 2 4 2 1 4\n",
      " 0 8 1 8 2 9 0 6 1 8 1 7 7 2 7 0 6 6 2 5 2 5 7 3 0 1 8 2 2 9 3 1 8 2 0 2 0\n",
      " 9 3 9 0 6 3 1 1 1 6 8 3 1 7 2 8 7 1 8 3 8 1 9 1 2 1 0 2 5 7 8 2 2 2 4 4 1\n",
      " 1 4 8 5 4 0 1 9 3 8 1 3 2 8 8 2 5 2 3 8 1 5 7 3 2 9 9 1 8 9 0 1 4 5 3 7 6\n",
      " 6 4 8 3 7 2 6 3 6 2 0 7 4 4 3 2 4 5 3 9 9 5 6 5 7 0 9 6 2 1 7 3 3 1 4 0 1\n",
      " 0 9 2 9 5 8 9 7 8 8 0 6 5 4 7 4 3 4 0 1 6 7 1 3 4 1 2 3 6 9 9 7 4 4 9 6 2\n",
      " 8 5 8 9 2 0 3 7 3 9 5 2 4 1 7 6 5 7 3 7 0 7 8 7 6 6 1 5 5 6 5 1 1 4 0 3 8\n",
      " 9 6 1 4 4 0 1 9 8 6 6 0 4 0 3 3 9 0 6 6 3 1 2 3 6 4 4 4 7 5 3 2 0 7 6 9 9\n",
      " 9 4 9 9 8 2 6 3 7 9 1 0 7 1 4 6 6 1 9 1 4 1 8 2 1 0 3 6 4 1 2 9 5 4 8 6 1\n",
      " 9 3 2 1 9 3 8 3 1 0 0 9 8 0 2 6 8 9 8 4 4 0 6 1 4 9 1 1 7 6 1 9 4 7 1 3 3\n",
      " 7 7 2 5 7 8 1 9 1 1 7 9 8 8 7 4 9 6 0 8 8 5 7 4 4 5 0 4 0 3 6 6 4 6 6 1 4\n",
      " 6 8 3 9 8 1 1 5 7 0 2 9 0 5 4 4 8 6 6 1 5 6 5 1 1 7 6 3 3 4 6 2 8 6 0 9 4\n",
      " 4 4 5 5 9 4 0 1 4 1 0 9 6 1 4 4 8 7 5 8 0 4 1 6 4 5 2 9 1 1 7 3 6 4 8 5 1\n",
      " 6 0 5 6 5 2 0 6 8 9 4 4 0 1 0 9 8 0 4 1 8 8 3 9 1 0 6 7 7 0 5 6 8 4 1 5 2\n",
      " 0 0 0 1 1 0 0 9 9 1 7 6 8 3 4 5 2 6 6 9 1 8 4 4 8 4 2 4 6 6 1 9 5 1 5 8 1\n",
      " 8 1 2 5 8 7 6 1 7 7 2 1 0 2 6 1 9 2 9 0 3 8 1 7 2 9 0 7 6 1 0 6 0 3 5 6 2\n",
      " 7 6 7 6 6 9 3 4 8 1 5 5 8 1 0 6 0 0 2 0 0 9 6 9 0 7 4 3 6 5 2 2 1 6 4 1 3\n",
      " 0] [5 3 4 8 2 4 5 6 9 9 9 9 5 3 1 8 3 4 0 4 4 9 5 3 2 3 6 8 7 9 6 6 6 1 6 3 1\n",
      " 6 6 2 2 2 2 0 9 3 7 3 8 9 1 6 0 8 1 3 9 5 4 0 6 7 4 4 5 8 5 1 2 0 8 0 3 5\n",
      " 4 6 2 5 9 2 5 2 6 8 6 6 9 2 2 0 8 1 8 3 1 5 9 9 8 2 1 4 9 2 7 8 6 3 1 3 4\n",
      " 9 9 4 5 8 2 8 1 2 1 8 9 1 1 2 1 4 0 7 0 8 9 3 2 7 8 0 4 7 5 9 3 5 6 2 5 7\n",
      " 7 7 7 1 2 6 8 3 2 4 1 5 7 9 8 6 8 7 1 3 9 0 1 6 8 1 3 2 9 2 8 2 5 6 1 4 0\n",
      " 1 6 6 4 1 0 4 7 7 2 0 7 7 5 9 4 4 3 8 6 3 7 2 6 1 2 7 2 7 9 2 1 7 9 1 0 0\n",
      " 0 0 8 1 4 3 9 1 1 3 5 5 2 3 2 7 8 0 8 1 2 4 3 9 3 6 0 0 9 2 2 8 5 1 5 8 0\n",
      " 4 9 6 8 7 8 5 3 8 3 2 0 4 6 9 4 0 4 2 1 6 6 1 5 8 7 8 0 8 1 9 9 8 2 9 8 0\n",
      " 2 3 2 0 0 7 0 8 2 1 7 8 7 3 1 8 9 6 1 0 9 9 9 6 0 7 8 7 8 1 2 4 5 2 2 7 7\n",
      " 3 2 8 3 4 9 7 5 0 0 2 8 8 5 7 8 5 7 5 5 1 9 5 0 4 9 6 1 8 4 9 4 3 6 1 7 5\n",
      " 9 9 3 1 7 6 1 1 3 3 3 7 1 9 7 9 1 4 1 2 5 5 0 7 1 9 0 3 6 0 5 1 2 4 2 1 4\n",
      " 0 8 1 8 2 9 0 6 1 8 1 7 7 7 7 0 6 6 2 5 2 0 7 3 0 1 0 2 2 9 3 1 8 2 0 2 0\n",
      " 4 3 9 0 6 3 1 1 1 6 8 3 1 7 2 8 7 1 8 3 5 1 9 1 2 1 0 2 5 7 8 2 2 2 4 4 1\n",
      " 1 4 8 8 4 0 1 9 3 8 1 8 2 8 8 2 5 2 3 8 1 5 7 3 2 9 7 1 8 9 0 1 4 5 3 7 6\n",
      " 6 4 8 3 7 2 5 3 6 2 0 7 4 4 3 2 4 8 3 9 9 5 6 5 7 0 9 6 2 1 7 9 3 1 4 0 1\n",
      " 0 9 2 7 5 8 9 7 8 2 0 0 5 4 7 4 3 4 0 1 6 7 1 3 4 1 2 3 6 8 4 7 4 4 9 6 2\n",
      " 8 5 5 9 2 0 3 7 3 9 5 2 9 1 7 6 8 7 3 7 0 7 8 7 6 6 1 1 5 6 5 9 1 4 0 3 8\n",
      " 9 6 1 4 4 0 2 7 8 6 6 0 4 0 2 3 9 0 2 6 3 1 2 3 6 9 4 4 7 5 5 2 0 7 6 9 9\n",
      " 9 4 9 9 8 2 6 8 7 9 1 0 7 1 4 6 2 1 9 1 7 1 8 2 1 0 5 6 4 1 2 9 5 9 5 6 1\n",
      " 4 3 2 1 9 3 8 3 1 3 0 9 8 0 5 6 8 4 2 4 4 0 6 1 6 9 1 1 7 6 1 9 4 7 1 3 3\n",
      " 7 7 2 5 7 7 1 9 8 1 7 4 8 3 7 9 9 6 0 8 1 5 7 4 4 5 0 4 0 3 6 6 2 6 6 1 4\n",
      " 6 8 3 9 8 1 1 5 7 0 7 9 0 5 4 4 8 6 6 1 5 6 5 1 1 7 6 3 3 4 6 2 8 6 0 9 4\n",
      " 4 6 5 5 9 4 0 1 5 1 0 9 6 1 4 4 8 7 2 8 0 4 1 5 4 5 2 9 1 2 7 3 6 4 5 5 1\n",
      " 6 0 5 2 5 2 0 6 8 3 4 4 0 1 0 4 8 0 4 1 1 8 8 9 1 0 2 7 7 0 0 6 8 4 1 5 2\n",
      " 0 0 0 1 1 6 0 8 9 1 7 6 8 2 4 5 2 6 6 9 1 3 4 4 6 4 2 4 6 6 1 9 5 1 5 8 1\n",
      " 8 1 2 5 8 7 6 1 0 7 2 1 0 2 6 1 5 2 9 5 3 8 1 7 2 9 0 5 6 1 0 6 0 3 5 6 2\n",
      " 7 6 7 6 6 9 3 4 5 1 5 5 8 1 0 6 9 0 2 0 0 2 6 5 0 7 7 4 6 9 2 0 1 6 4 1 3\n",
      " 0]\n"
     ]
    },
    {
     "data": {
      "text/plain": [
       "np.float64(0.865)"
      ]
     },
     "execution_count": 40,
     "metadata": {},
     "output_type": "execute_result"
    }
   ],
   "source": [
    "dev_predictions = make_predictions(X_dev, w1, b1, w2, b2)\n",
    "get_accuracy(dev_predictions, Y_dev)"
   ]
  },
  {
   "cell_type": "code",
   "execution_count": 66,
   "id": "6c0d0ebc",
   "metadata": {},
   "outputs": [],
   "source": [
    "test_image = X_train[:, 1, None].T"
   ]
  },
  {
   "cell_type": "code",
   "execution_count": 67,
   "id": "d9e00c23",
   "metadata": {
    "scrolled": true
   },
   "outputs": [
    {
     "name": "stdout",
     "output_type": "stream",
     "text": [
      "[8]\n"
     ]
    }
   ],
   "source": [
    "dot_prod = np.dot(test_image,w1[3])\n",
    "z1, a1, z2, a2 = forward_prop(w1, b1, w2, b2, test_image.T)\n",
    "#print(w1.dot(test_image.T))\n",
    "#print(a1)\n",
    "#print(w2.dot(a1))\n",
    "#print(z2)\n",
    "#print(a2)\n",
    "print(get_predictions(a2))"
   ]
  },
  {
   "cell_type": "code",
   "execution_count": 68,
   "id": "3c3b422c",
   "metadata": {},
   "outputs": [],
   "source": [
    "#w1, b1, w2, b2\n",
    "np.savetxt('test_image_np.txt', test_image, delimiter=',', fmt='%.17f')\n",
    "np.savetxt('w1_np.txt', w1,   delimiter=',', fmt='%.17f')\n",
    "np.savetxt('b1_np.txt', b1.T, delimiter=',', fmt='%.17f')\n",
    "np.savetxt('w2_np.txt', w2,   delimiter=',', fmt='%.17f')\n",
    "np.savetxt('b2_np.txt', b2.T, delimiter=',', fmt='%.17f')"
   ]
  },
  {
   "cell_type": "code",
   "execution_count": 69,
   "id": "6ccd4c06-c787-41d2-9a8c-f72fb8dc5227",
   "metadata": {},
   "outputs": [],
   "source": [
    "def format_file (file_name):\n",
    "    target_file_name = file_name[:-7] + \".txt\"\n",
    "    f = open(file_name, \"r\")\n",
    "    t = open(target_file_name, \"w\")\n",
    "    t.write(\"{\")\n",
    "    lines = []\n",
    "    for line in f:\n",
    "        lines.append(line.rstrip())\n",
    "    size = len(lines)\n",
    "    if (size == 1):\n",
    "        t.write(lines[0])\n",
    "    else:\n",
    "        for i in range(size):\n",
    "            if (i != size-1):\n",
    "                t.write(\"{\" + lines[i] +\"},\")\n",
    "            else:\n",
    "                t.write(\"{\" + lines[i] +\"}\")\n",
    "    \n",
    "    t.write(\"}\")\n",
    "    f.close()\n",
    "    t.close()\n",
    "def format_file_seperately(file_name):\n",
    "    target_file_name = file_name[:-7] + \"_seperate.txt\"\n",
    "    f = open(file_name, \"r\")\n",
    "    t = open(target_file_name, \"w\")\n",
    "    \n",
    "    for lines in enumerate(f.readlines()):\n",
    "        index   = lines[0]\n",
    "        line    = lines[1]\n",
    "        layer_n = target_file_name[1]\n",
    "        line    = 'volatile float w' + str(layer_n) + \"_\" + str(index) + \"[784] = {\" + line + \"};\\n\"\n",
    "        t.write(line)\n",
    "    \n",
    "    f.close()\n",
    "    t.close()"
   ]
  },
  {
   "cell_type": "code",
   "execution_count": 70,
   "id": "8147d969-0d8b-48c8-9254-e7fe96307afe",
   "metadata": {},
   "outputs": [],
   "source": [
    "format_file(\"w1_np.txt\")\n",
    "format_file(\"b1_np.txt\")\n",
    "format_file(\"w2_np.txt\")\n",
    "format_file(\"b2_np.txt\")\n",
    "format_file(\"test_image_np.txt\")\n",
    "\n",
    "format_file_seperately(\"w1_np.txt\")\n",
    "format_file_seperately(\"w2_np.txt\")"
   ]
  },
  {
   "cell_type": "markdown",
   "id": "608a861a",
   "metadata": {},
   "source": [
    "Still 85% accuracy, so our model generalized from the training data pretty well."
   ]
  },
  {
   "cell_type": "markdown",
   "id": "1d21cc24",
   "metadata": {},
   "source": [
    "Code by Om Baval \n",
    "For any further clarification you can drop me a mail on ombaval@gmail.com"
   ]
  }
 ],
 "metadata": {
  "kernelspec": {
   "display_name": "Python 3 (ipykernel)",
   "language": "python",
   "name": "python3"
  },
  "language_info": {
   "codemirror_mode": {
    "name": "ipython",
    "version": 3
   },
   "file_extension": ".py",
   "mimetype": "text/x-python",
   "name": "python",
   "nbconvert_exporter": "python",
   "pygments_lexer": "ipython3",
   "version": "3.9.7"
  }
 },
 "nbformat": 4,
 "nbformat_minor": 5
}
