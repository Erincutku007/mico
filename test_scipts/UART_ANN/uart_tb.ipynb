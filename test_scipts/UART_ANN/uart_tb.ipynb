{
 "cells": [
  {
   "cell_type": "code",
   "execution_count": 24,
   "id": "4ac33328-26c2-48e4-9866-bd53881cfb26",
   "metadata": {},
   "outputs": [
    {
     "data": {
      "text/plain": [
       "'N'"
      ]
     },
     "execution_count": 24,
     "metadata": {},
     "output_type": "execute_result"
    }
   ],
   "source": [
    "import serial\n",
    "import numpy as np\n",
    "import struct\n",
    "import matplotlib.pyplot as plt\n",
    "import pandas as pd\n",
    "serial.PARITY_NONE"
   ]
  },
  {
   "cell_type": "code",
   "execution_count": 25,
   "id": "cac503a2-a6f5-432f-88d1-2c4d50b8b502",
   "metadata": {},
   "outputs": [],
   "source": [
    "def send_data(data):\n",
    "    with serial.Serial(\"COM6\", 9600) as ser:\n",
    "        ser.write(data)\n",
    "def load_np(target_name, index = 0):\n",
    "    file_name = './model_param/' + target_name + '.npy'\n",
    "    with open(file_name, 'rb') as f:\n",
    "        array = np.load(f)\n",
    "        return array\n",
    "def float_to_barray(value):\n",
    "    ba = bytearray(struct.pack(\"f\", value))\n",
    "    ba.reverse()\n",
    "    return ba\n",
    "def float_list_to_barray(flist):\n",
    "    return [float_to_barray(x) for x in flist]"
   ]
  },
  {
   "cell_type": "code",
   "execution_count": 36,
   "id": "5df033af-bb37-4606-8e5d-b86afbce581f",
   "metadata": {},
   "outputs": [],
   "source": [
    "x_i = [0]\n",
    "x_f  = [float_to_barray(x) for x in x_i]"
   ]
  },
  {
   "cell_type": "code",
   "execution_count": 37,
   "id": "1d755f45-d52b-4658-80fa-caa19481b330",
   "metadata": {},
   "outputs": [
    {
     "name": "stdout",
     "output_type": "stream",
     "text": [
      "['0x40', '0xa0', '0x00', '0x00']\n",
      "['0x40', '0xa0', '0x00', '0x00']\n"
     ]
    }
   ],
   "source": [
    "for i in x_f:\n",
    "    print([ \"0x%02x\" % b for b in i ])\n",
    "    #send_data(i)"
   ]
  },
  {
   "cell_type": "code",
   "execution_count": 96,
   "id": "7c5ae6b0-d360-449c-a716-45cf08487339",
   "metadata": {},
   "outputs": [
    {
     "name": "stdout",
     "output_type": "stream",
     "text": [
      "['0x3f', '0x80', '0x00', '0x00']\n"
     ]
    }
   ],
   "source": [
    "test_num = float_to_barray(1)\n",
    "test_num2 = float_to_barray(2)\n",
    "test_num3 = float_to_barray(3)\n",
    "test_num4 = float_to_barray(4)\n",
    "print([ \"0x%02x\" % b for b in test_num ])\n",
    "send_data(test_num)"
   ]
  },
  {
   "cell_type": "code",
   "execution_count": 97,
   "id": "b86c519d-a60f-4f79-ab1a-c123fddd43c1",
   "metadata": {},
   "outputs": [],
   "source": [
    "val  = 9\n",
    "valb = val.to_bytes(1, 'big')\n",
    "send_data(valb)"
   ]
  },
  {
   "cell_type": "code",
   "execution_count": 98,
   "id": "5ccf2edb-46a0-49c3-888a-6f0d9a9e8a7b",
   "metadata": {},
   "outputs": [],
   "source": [
    "test_image = load_np('test_image')\n",
    "w1         = load_np('w1')\n",
    "b1         = load_np('b1')\n",
    "w2         = load_np('w2')\n",
    "b2         = load_np('b2')"
   ]
  },
  {
   "cell_type": "code",
   "execution_count": 116,
   "id": "034a4df1-a6db-46e3-859f-7a355dbc114c",
   "metadata": {},
   "outputs": [],
   "source": [
    "def test_prediction(index, W1, b1, W2, b2):\n",
    "    current_image = X_train[:, index, None]\n",
    "    prediction = make_predictions(X_train[:, index, None], W1, b1, W2, b2)\n",
    "    label = Y_train[index]\n",
    "    print(\"Prediction: \", prediction)\n",
    "    print(\"Label: \", label)\n",
    "    \n",
    "    current_image = current_image.reshape((28, 28)) * 255\n",
    "    plt.gray()\n",
    "    plt.imshow(current_image, interpolation='nearest')\n",
    "    plt.show()\n",
    "def make_predictions(X, W1, b1, W2, b2):\n",
    "    _, _, _, A2 = forward_prop(W1, b1, W2, b2, X)\n",
    "    predictions = get_predictions(A2)\n",
    "    return predictions\n",
    "def forward_prop(w1, b1, w2, b2, X):\n",
    "    z1=w1.dot(X)+b1\n",
    "    a1=ReLU(z1)\n",
    "    z2=w2.dot(a1)+b2\n",
    "    a2=softmax(z2)\n",
    "    return z1, a1, z2, a2\n",
    "def get_predictions(a2):\n",
    "    return np.argmax(a2,0)\n",
    "def ReLU(Z):\n",
    "    return np.maximum(Z, 0)\n",
    "def softmax(Z):\n",
    "    A=np.exp(Z) / sum(np.exp(Z))\n",
    "    return A\n",
    "#If anyone is reading this comment, opening a file by this method is a bad practice. use with open('filename'): method\n",
    "def format_file (file_name):\n",
    "    target_file_name = file_name[:-7] + \".txt\"\n",
    "    f = open(file_name, \"r\")\n",
    "    t = open(target_file_name, \"w\")\n",
    "    t.write(\"{\")\n",
    "    lines = []\n",
    "    for line in f:\n",
    "        lines.append(line.rstrip())\n",
    "    size = len(lines)\n",
    "    if (size == 1):\n",
    "        t.write(lines[0])\n",
    "    else:\n",
    "        for i in range(size):\n",
    "            if (i != size-1):\n",
    "                t.write(\"{\" + lines[i] +\"},\")\n",
    "            else:\n",
    "                t.write(\"{\" + lines[i] +\"}\")\n",
    "    \n",
    "    t.write(\"}\")\n",
    "    f.close()\n",
    "    t.close()"
   ]
  },
  {
   "cell_type": "code",
   "execution_count": 117,
   "id": "df81b27d-5a8c-4668-87ad-8c6f960fb73d",
   "metadata": {},
   "outputs": [],
   "source": [
    "data=pd.read_csv(r\"C:\\Users\\erincutku\\Desktop\\projeler\\mnist_nn\\mnist_train.csv\",header=None)\n",
    "data=np.array(data)\n",
    "m, n= data.shape\n",
    "#np.random.shuffle(data)\n",
    "\n",
    "data_dev=data[0:1000].T\n",
    "Y_dev=data_dev[0]\n",
    "X_dev=data_dev[1:n]\n",
    "X_dev = X_dev / 255.\n",
    "\n",
    "data_train=data[1000:m].T\n",
    "Y_train=data_train[0]\n",
    "X_train=data_train[1:n]\n",
    "X_train = X_train / 255.\n",
    "_,m_train = X_train.shape"
   ]
  },
  {
   "cell_type": "code",
   "execution_count": 124,
   "id": "f0b865af-aafa-40ff-b6e1-a9ebe81ddf0d",
   "metadata": {},
   "outputs": [
    {
     "name": "stdout",
     "output_type": "stream",
     "text": [
      "Prediction:  [2]\n",
      "Label:  2\n"
     ]
    },
    {
     "data": {
      "image/png": "[encoded data removed]",
      "text/plain": [
       "<Figure size 640x480 with 1 Axes>"
      ]
     },
     "metadata": {},
     "output_type": "display_data"
    }
   ],
   "source": [
    "index = 10\n",
    "test_prediction(index, w1, b1, w2, b2)\n",
    "test_img = X_train[:, index, None]\n",
    "z1, a1, z2, a2 =forward_prop(w1, b1, w2, b2, test_img)\n",
    "a1_f32 = a1.astype(np.float32)\n",
    "a1_list = a1.T.tolist()[0] #spagetti code for unit conversion :("
   ]
  },
  {
   "cell_type": "code",
   "execution_count": 125,
   "id": "f7703e52-c901-472b-aeee-fe50609dba96",
   "metadata": {},
   "outputs": [],
   "source": [
    "a1_uart_data = float_list_to_barray(a1_list)\n",
    "for i in a1_uart_data:\n",
    "    #print([ \"0x%02x\" % b for b in i ])\n",
    "    send_data(i)"
   ]
  },
  {
   "cell_type": "code",
   "execution_count": 23,
   "id": "64ba69cd-a4e7-4895-8126-3b289043e00e",
   "metadata": {},
   "outputs": [
    {
     "data": {
      "text/plain": [
       "array([[0.        ],\n",
       "       [0.6341306 ],\n",
       "       [1.01006462],\n",
       "       [0.        ],\n",
       "       [0.53889853],\n",
       "       [1.43758739],\n",
       "       [1.0527221 ],\n",
       "       [7.64553711],\n",
       "       [0.        ],\n",
       "       [0.        ]])"
      ]
     },
     "execution_count": 23,
     "metadata": {},
     "output_type": "execute_result"
    }
   ],
   "source": [
    "np.savetxt('./model_param/a1_np.txt', a1.T, delimiter=',', fmt='%.17f')\n",
    "format_file(\"./model_param/a1_np.txt\")\n",
    "a1"
   ]
  },
  {
   "cell_type": "code",
   "execution_count": null,
   "id": "723c56d4-f5e9-46d0-b2bf-3771c3bdf175",
   "metadata": {},
   "outputs": [],
   "source": []
  }
 ],
 "metadata": {
  "kernelspec": {
   "display_name": "Python 3 (ipykernel)",
   "language": "python",
   "name": "python3"
  },
  "language_info": {
   "codemirror_mode": {
    "name": "ipython",
    "version": 3
   },
   "file_extension": ".py",
   "mimetype": "text/x-python",
   "name": "python",
   "nbconvert_exporter": "python",
   "pygments_lexer": "ipython3",
   "version": "3.9.7"
  }
 },
 "nbformat": 4,
 "nbformat_minor": 5
}
